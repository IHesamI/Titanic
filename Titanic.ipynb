{
 "cells": [
  {
   "cell_type": "code",
   "execution_count": 49,
   "metadata": {},
   "outputs": [
    {
     "data": {
      "text/html": [
       "<div>\n",
       "<style scoped>\n",
       "    .dataframe tbody tr th:only-of-type {\n",
       "        vertical-align: middle;\n",
       "    }\n",
       "\n",
       "    .dataframe tbody tr th {\n",
       "        vertical-align: top;\n",
       "    }\n",
       "\n",
       "    .dataframe thead th {\n",
       "        text-align: right;\n",
       "    }\n",
       "</style>\n",
       "<table border=\"1\" class=\"dataframe\">\n",
       "  <thead>\n",
       "    <tr style=\"text-align: right;\">\n",
       "      <th></th>\n",
       "      <th>Children</th>\n",
       "      <th>teens</th>\n",
       "      <th>adults</th>\n",
       "      <th>elders</th>\n",
       "    </tr>\n",
       "    <tr>\n",
       "      <th>Survived</th>\n",
       "      <th></th>\n",
       "      <th></th>\n",
       "      <th></th>\n",
       "      <th></th>\n",
       "    </tr>\n",
       "  </thead>\n",
       "  <tbody>\n",
       "    <tr>\n",
       "      <th>0</th>\n",
       "      <td>11</td>\n",
       "      <td>21</td>\n",
       "      <td>148</td>\n",
       "      <td>16</td>\n",
       "    </tr>\n",
       "    <tr>\n",
       "      <th>1</th>\n",
       "      <td>9</td>\n",
       "      <td>18</td>\n",
       "      <td>79</td>\n",
       "      <td>15</td>\n",
       "    </tr>\n",
       "  </tbody>\n",
       "</table>\n",
       "</div>"
      ],
      "text/plain": [
       "          Children  teens  adults  elders\n",
       "Survived                                 \n",
       "0               11     21     148      16\n",
       "1                9     18      79      15"
      ]
     },
     "metadata": {},
     "output_type": "display_data"
    },
    {
     "data": {
      "text/plain": [
       "Text(0, 0.5, 'Survival')"
      ]
     },
     "execution_count": 49,
     "metadata": {},
     "output_type": "execute_result"
    },
    {
     "data": {
      "image/png": "[encoded data removed]",
      "text/plain": [
       "<Figure size 432x288 with 1 Axes>"
      ]
     },
     "metadata": {
      "needs_background": "light"
     },
     "output_type": "display_data"
    }
   ],
   "source": [
    "import pandas as pd\n",
    "# import numpy as np\n",
    "import matplotlib.pyplot as plt\n",
    "# import sklearn as sk\n",
    "\n",
    "test_df=pd.read_csv(r'titanic\\test.csv')\n",
    "survivals=pd.read_csv(r'titanic\\gender_submission.csv')\n",
    "test_df[\"Survived\"]=survivals[\"Survived\"]\n",
    "\n",
    "Children=test_df[ test_df['Age']<10]\n",
    "elders=test_df[ test_df['Age']>50 ]\n",
    "teens=test_df[ (test_df['Age']>10) & (test_df['Age']<20 )]\n",
    "adults=test_df[ (test_df['Age']>20) &( test_df['Age']<50) ]\n",
    "\n",
    "Children_groupby=Children.groupby('Survived').PassengerId.count()\n",
    "elders_groupby=elders.groupby('Survived').PassengerId.count()\n",
    "teens_groupby=teens.groupby('Survived').PassengerId.count()\n",
    "adults_groupby=adults.groupby('Survived').PassengerId.count()\n",
    "\n",
    "Final_df=pd.concat([Children_groupby,teens_groupby,adults_groupby,elders_groupby],axis=1,keys=['Children','teens','adults','elders'])\n",
    "display(Final_df)\n",
    "myset=list()\n",
    "mydict={}\n",
    "mydict[0]=[]\n",
    "mydict[1]=[]\n",
    "\n",
    "for key ,value in Final_df.to_dict().items():\n",
    "    myset.append(key)\n",
    "    for k,v in value.items():\n",
    "        mydict[k].append(v)\n",
    "myset\n",
    "\n",
    "myplot=pd.DataFrame(mydict,myset)\n",
    "myplot.plot(kind='bar')\n",
    "plt.title('Survival by Age')\n",
    "plt.xlabel('Age')\n",
    "plt.ylabel('Survival')\n"
   ]
  }
 ],
 "metadata": {
  "interpreter": {
   "hash": "c26b987c77742951550199b5aa16e2750f5fcdf0936f8d9cff3691f53c52422b"
  },
  "kernelspec": {
   "display_name": "Python 3.9.7 ('base')",
   "language": "python",
   "name": "python3"
  },
  "language_info": {
   "codemirror_mode": {
    "name": "ipython",
    "version": 3
   },
   "file_extension": ".py",
   "mimetype": "text/x-python",
   "name": "python",
   "nbconvert_exporter": "python",
   "pygments_lexer": "ipython3",
   "version": "3.9.7"
  },
  "orig_nbformat": 4
 },
 "nbformat": 4,
 "nbformat_minor": 2
}
