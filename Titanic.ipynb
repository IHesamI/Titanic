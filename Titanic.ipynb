{
 "cells": [
  {
   "cell_type": "code",
   "execution_count": 32,
   "metadata": {},
   "outputs": [
    {
     "data": {
      "text/plain": [
       "{0: 148, 1: 79}"
      ]
     },
     "execution_count": 32,
     "metadata": {},
     "output_type": "execute_result"
    }
   ],
   "source": [
    "import pandas as pd\n",
    "import numpy as np\n",
    "import matplotlib.pyplot as plt\n",
    "import sklearn as sk\n",
    "\n",
    "test_df=pd.read_csv(r'titanic\\test.csv')\n",
    "survivals=pd.read_csv(r'titanic\\gender_submission.csv')\n",
    "test_df[\"Survived\"]=survivals[\"Survived\"]\n",
    "Children=test_df[ test_df['Age']<10]\n",
    "elders=test_df[ test_df['Age']>50 ]\n",
    "teens=test_df[ (test_df['Age']>10) & (test_df['Age']<20 )]\n",
    "adults=test_df[ (test_df['Age']>20) &( test_df['Age']<50) ]\n",
    "adults.groupby('Survived').PassengerId.count().to_dict()\n",
    "\n"
   ]
  },
  {
   "cell_type": "code",
   "execution_count": null,
   "metadata": {},
   "outputs": [],
   "source": []
  }
 ],
 "metadata": {
  "interpreter": {
   "hash": "c26b987c77742951550199b5aa16e2750f5fcdf0936f8d9cff3691f53c52422b"
  },
  "kernelspec": {
   "display_name": "Python 3.9.7 ('base')",
   "language": "python",
   "name": "python3"
  },
  "language_info": {
   "codemirror_mode": {
    "name": "ipython",
    "version": 3
   },
   "file_extension": ".py",
   "mimetype": "text/x-python",
   "name": "python",
   "nbconvert_exporter": "python",
   "pygments_lexer": "ipython3",
   "version": "3.9.7"
  },
  "orig_nbformat": 4
 },
 "nbformat": 4,
 "nbformat_minor": 2
}
