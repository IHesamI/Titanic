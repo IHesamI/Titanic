{
 "cells": [
  {
   "cell_type": "code",
   "execution_count": null,
   "metadata": {},
   "outputs": [],
   "source": [
    "import pandas as pd\n",
    "# import numpy as np\n",
    "# import matplotlib.pyplot as plt\n",
    "from sklearn.ensemble import RandomForestClassifier as rf\n",
    "train_df=pd.read_csv(r'titanic\\train.csv')\n",
    "test_df=pd.read_csv(r'titanic\\test.csv')\n",
    "\n",
    "# Children=test_df[ test_df['Age']<10]\n",
    "# elders=test_df[ test_df['Age']>50 ]\n",
    "# teens=test_df[ (test_df['Age']>10) & (test_df['Age']<20 )]\n",
    "# adults=test_df[ (test_df['Age']>20) &( test_df['Age']<50) ]\n",
    "\n",
    "# Children_groupby=Children.groupby('Survived').PassengerId.count()\n",
    "# elders_groupby=elders.groupby('Survived').PassengerId.count()\n",
    "# teens_groupby=teens.groupby('Survived').PassengerId.count()\n",
    "# adults_groupby=adults.groupby('Survived').PassengerId.count()\n",
    "\n",
    "# Final_df=pd.concat([Children_groupby,teens_groupby,adults_groupby,elders_groupby],axis=1,keys=['Children','teens','adults','elders'])\n",
    "\n",
    "# mylist=list()\n",
    "# mydict={}\n",
    "# mydict[0]=[]\n",
    "# mydict[1]=[]\n",
    "\n",
    "# for key ,value in Final_df.to_dict().items():\n",
    "#     mylist.append(key)\n",
    "#     for k,v in value.items():\n",
    "#         mydict[k].append(v)\n",
    "\n",
    "# myplot=pd.DataFrame(mydict,mylist)\n",
    "# myplot.plot(kind='bar')\n",
    "# plt.title('Survival by Age')\n",
    "# plt.xlabel('Age')\n",
    "# plt.ylabel('Survival')\n",
    "train_df['AGE_GROUP']=train_df.apply(lambda x: 'kid' if x['Age']<10 else ('teen' if x['Age']>10 and x['Age']<18 else ('adult' if x['Age']>18 and x['Age']<60 else 'elder')),axis=1)\n",
    "train_df['AGE_GROUP']\n",
    "test_df['AGE_GROUP']=train_df.apply(lambda x: 'kid' if x['Age']<10 else ('teen' if x['Age']>10 and x['Age']<18 else ('adult' if x['Age']>18 and x['Age']<60 else 'elder')),axis=1)\n",
    "y=train_df['Survived']\n",
    "featurs=['Pclass','Sex','AGE_GROUP','SibSp','Parch']\n",
    "x=pd.get_dummies(train_df[featurs])\n",
    "XTest=pd.get_dummies(test_df[featurs])\n",
    "model=rf(n_estimators=100,max_depth=15,random_state=1)\n",
    "model.fit(x,y)\n",
    "predictinos=model.predict(XTest)\n",
    "output=pd.DataFrame({'PassengerId':test_df['PassengerId'],'Survived':predictinos})\n",
    "output.to_csv(r'titanic\\submission.csv',index=False)\n",
    "\n",
    "\n"
   ]
  },
  {
   "cell_type": "code",
   "execution_count": null,
   "metadata": {},
   "outputs": [],
   "source": [
    "\n",
    "train_df_groupby=train_df.groupby(['SibSp','Survived']).size()\n",
    "\n",
    "df=train_df_groupby.groupby(level=0).apply(lambda x: 100*x/x.sum())\n",
    "display(df)\n"
   ]
  },
  {
   "cell_type": "code",
   "execution_count": null,
   "metadata": {},
   "outputs": [],
   "source": [
    "# find percentage of survived by Parch\n",
    "train_df_groupby=train_df.groupby(['Parch','Survived']).size()\n",
    "\n",
    "df=train_df_groupby.groupby(level=0).apply(lambda x: 100*x/x.sum())\n",
    "display(df)"
   ]
  },
  {
   "cell_type": "code",
   "execution_count": null,
   "metadata": {},
   "outputs": [],
   "source": [
    "kid=train_df[train_df['Age']<10]\n",
    "teen=train_df[(train_df['Age']>10) & (train_df['Age']<18)].groupby('Survived').size()\n",
    "adult=train_df[(train_df['Age']>18) &( train_df['Age']<60)].groupby('Survived').size()\n",
    "elder=train_df[train_df['Age']>50].groupby('Survived').size()\n",
    "dfgroup=pd.concat([kid,teen,adult,elder],axis=0,keys=['kid','teen','adult','elder'])\n",
    "display(dfgroup)\n",
    "df=dfgroup.groupby(level=[0]).apply(lambda x: 100*x/x.sum())\n",
    "display(df)\n"
   ]
  }
 ],
 "metadata": {
  "interpreter": {
   "hash": "c26b987c77742951550199b5aa16e2750f5fcdf0936f8d9cff3691f53c52422b"
  },
  "kernelspec": {
   "display_name": "Python 3.9.7 ('base')",
   "language": "python",
   "name": "python3"
  },
  "language_info": {
   "codemirror_mode": {
    "name": "ipython",
    "version": 3
   },
   "file_extension": ".py",
   "mimetype": "text/x-python",
   "name": "python",
   "nbconvert_exporter": "python",
   "pygments_lexer": "ipython3",
   "version": "3.9.7"
  },
  "orig_nbformat": 4
 },
 "nbformat": 4,
 "nbformat_minor": 2
}
