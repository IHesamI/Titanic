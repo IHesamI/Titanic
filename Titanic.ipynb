{
 "cells": [
  {
   "cell_type": "code",
   "execution_count": 40,
   "metadata": {},
   "outputs": [
    {
     "data": {
      "text/plain": [
       "<AxesSubplot:>"
      ]
     },
     "execution_count": 40,
     "metadata": {},
     "output_type": "execute_result"
    },
    {
     "data": {
      "image/png": "[encoded data removed]",
      "text/plain": [
       "<Figure size 432x288 with 1 Axes>"
      ]
     },
     "metadata": {
      "needs_background": "light"
     },
     "output_type": "display_data"
    }
   ],
   "source": [
    "import pandas as pd\n",
    "import numpy as np\n",
    "import matplotlib.pyplot as plt\n",
    "import sklearn as sk\n",
    "\n",
    "test_df=pd.read_csv(r'titanic\\test.csv')\n",
    "survivals=pd.read_csv(r'titanic\\gender_submission.csv')\n",
    "test_df[\"Survived\"]=survivals[\"Survived\"]\n",
    "Children=test_df[ test_df['Age']<10]\n",
    "elders=test_df[ test_df['Age']>50 ]\n",
    "teens=test_df[ (test_df['Age']>10) & (test_df['Age']<20 )]\n",
    "adults=test_df[ (test_df['Age']>20) &( test_df['Age']<50) ]\n",
    "Children_groupby=Children.groupby('Survived').PassengerId.count()\n",
    "elders_groupby=elders.groupby('Survived').PassengerId.count()\n",
    "teens_groupby=teens.groupby('Survived').PassengerId.count()\n",
    "adults_groupby=adults.groupby('Survived').PassengerId.count()\n",
    "Final_df=pd.concat([Children_groupby,teens_groupby,adults_groupby,elders_groupby],axis=1,keys=['Children','teens','adults','elders'])\n",
    "myset=set()\n",
    "mydict={}\n",
    "mydict[0]=[]\n",
    "mydict[1]=[]\n",
    "\n",
    "for key ,value in Final_df.to_dict().items():\n",
    "    myset.add(key)\n",
    "    for k,v in value.items():\n",
    "        mydict[k].append(v)\n",
    "\n",
    "\n",
    "myplot=pd.DataFrame(mydict,myset)\n",
    "myplot.plot(kind='bar')\n"
   ]
  }
 ],
 "metadata": {
  "interpreter": {
   "hash": "c26b987c77742951550199b5aa16e2750f5fcdf0936f8d9cff3691f53c52422b"
  },
  "kernelspec": {
   "display_name": "Python 3.9.7 ('base')",
   "language": "python",
   "name": "python3"
  },
  "language_info": {
   "codemirror_mode": {
    "name": "ipython",
    "version": 3
   },
   "file_extension": ".py",
   "mimetype": "text/x-python",
   "name": "python",
   "nbconvert_exporter": "python",
   "pygments_lexer": "ipython3",
   "version": "3.9.7"
  },
  "orig_nbformat": 4
 },
 "nbformat": 4,
 "nbformat_minor": 2
}
